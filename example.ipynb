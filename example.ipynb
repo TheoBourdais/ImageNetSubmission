{
 "cells": [
  {
   "cell_type": "code",
   "execution_count": null,
   "metadata": {},
   "outputs": [],
   "source": [
    "import torch\n",
    "from torch.utils.data import DataLoader\n",
    "import timm\n",
    "import os\n",
    "from src.utils import TestDataset, get_test_submission"
   ]
  },
  {
   "cell_type": "code",
   "execution_count": null,
   "metadata": {},
   "outputs": [],
   "source": [
    "device = torch.device(\"cuda\" if torch.cuda.is_available() else \"cpu\")"
   ]
  },
  {
   "cell_type": "markdown",
   "metadata": {},
   "source": [
    "# Setup model and preprocessing\n",
    "\n",
    "This is where you can put your own model with appropriate preprocessing."
   ]
  },
  {
   "cell_type": "code",
   "execution_count": null,
   "metadata": {},
   "outputs": [],
   "source": [
    "model = timm.create_model(\"vit_base_patch16_224\", pretrained=True)\n",
    "\n",
    "data_config = timm.data.resolve_model_data_config(model)\n",
    "preprocess = timm.data.create_transform(**data_config, is_training=False)\n",
    "model.to(device)\n",
    "\n",
    "model"
   ]
  },
  {
   "cell_type": "markdown",
   "metadata": {},
   "source": [
    "# Setup Data\n",
    "\n",
    "Replace `\"./imagenet/test/\"` with the path to the test folder of ImageNet."
   ]
  },
  {
   "cell_type": "code",
   "execution_count": null,
   "metadata": {},
   "outputs": [],
   "source": [
    "test_dataset = TestDataset(\"./imagenet/test/\", transform=preprocess)\n",
    "loader = DataLoader(test_dataset, batch_size=100, shuffle=False)"
   ]
  },
  {
   "cell_type": "markdown",
   "metadata": {},
   "source": [
    "# Get submission and save it"
   ]
  },
  {
   "cell_type": "code",
   "execution_count": null,
   "metadata": {},
   "outputs": [],
   "source": [
    "submission = get_test_submission(model, loader, device)\n",
    "\n",
    "# write submission to csv but without overwriting any files, adding (1), (2), etc. to the filename\n",
    "if not os.path.exists(\"submission.txt\"):\n",
    "    submission.to_csv(\"submission.txt\", index=False, header=False, sep=\" \")\n",
    "else:\n",
    "    i = 1\n",
    "    while os.path.exists(f\"submission{i}.txt\"):\n",
    "        i += 1\n",
    "    submission.to_csv(f\"submission{i}.txt\", index=False, header=False, sep=\" \")\n"
   ]
  }
 ],
 "metadata": {
  "language_info": {
   "name": "python"
  }
 },
 "nbformat": 4,
 "nbformat_minor": 2
}
